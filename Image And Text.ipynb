{
 "cells": [
  {
   "cell_type": "code",
   "execution_count": 4,
   "metadata": {},
   "outputs": [
    {
     "data": {
      "text/plain": [
       "['CmGRtylWgAAJWWo.jpg',\n",
       " 'CmGRwjXWEAErNZg.jpg',\n",
       " 'facebook_1575379514213.jpg',\n",
       " 'Image And Text.ipynb']"
      ]
     },
     "execution_count": 4,
     "metadata": {},
     "output_type": "execute_result"
    }
   ],
   "source": [
    "import glob\n",
    "glob.glob(\"*\")"
   ]
  },
  {
   "cell_type": "markdown",
   "metadata": {},
   "source": [
    "Please go do the following:\n",
    "* install tesseract\n",
    "* pip install pytesseract"
   ]
  },
  {
   "cell_type": "code",
   "execution_count": 17,
   "metadata": {},
   "outputs": [],
   "source": [
    "import pytesseract\n",
    "from PIL import Image\n",
    "\n",
    "pytesseract.pytesseract.tesseract_cmd = r'C:\\Program Files\\Tesseract-OCR\\tesseract'"
   ]
  },
  {
   "cell_type": "code",
   "execution_count": 20,
   "metadata": {},
   "outputs": [],
   "source": [
    "Image.open('facebook_1575379514213.jpg').show()"
   ]
  },
  {
   "cell_type": "code",
   "execution_count": 19,
   "metadata": {},
   "outputs": [
    {
     "name": "stdout",
     "output_type": "stream",
     "text": [
      "He’s making a database.\n",
      "\n",
      "He’s sorting it twice.\n",
      "SELECT + from contacts WHERE\n",
      "behavior ice’\n",
      "\n",
      "SQL Clause is coming to town!\n"
     ]
    }
   ],
   "source": [
    "print(pytesseract.image_to_string(Image.open('facebook_1575379514213.jpg')))"
   ]
  },
  {
   "cell_type": "code",
   "execution_count": 25,
   "metadata": {},
   "outputs": [],
   "source": [
    "Image.open('CmGRtylWgAAJWWo.jpg').show()"
   ]
  },
  {
   "cell_type": "code",
   "execution_count": 22,
   "metadata": {},
   "outputs": [],
   "source": [
    "Image.open('CmGRwjXWEAErNZg.jpg').show()"
   ]
  },
  {
   "cell_type": "code",
   "execution_count": 23,
   "metadata": {},
   "outputs": [
    {
     "name": "stdout",
     "output_type": "stream",
     "text": [
      "Cola aed s\n",
      "Canal believe that?\n"
     ]
    }
   ],
   "source": [
    "print(pytesseract.image_to_string(Image.open('CmGRtylWgAAJWWo.jpg')))"
   ]
  },
  {
   "cell_type": "code",
   "execution_count": 24,
   "metadata": {
    "scrolled": true
   },
   "outputs": [
    {
     "name": "stdout",
     "output_type": "stream",
     "text": [
      "Why should | die?\n",
      "I'm not the asshole.\n"
     ]
    }
   ],
   "source": [
    "print(pytesseract.image_to_string(Image.open('CmGRwjXWEAErNZg.jpg')))"
   ]
  },
  {
   "cell_type": "code",
   "execution_count": 16,
   "metadata": {},
   "outputs": [
    {
     "name": "stdout",
     "output_type": "stream",
     "text": [
      "was gonna kill Wed\n"
     ]
    }
   ],
   "source": [
    "import cv2\n",
    "\n",
    "img_cv = cv2.imread('CmGRtylWgAAJWWo.jpg')\n",
    "\n",
    "# By default OpenCV stores images in BGR format and since pytesseract assumes RGB format,\n",
    "# we need to convert from BGR to RGB format/mode:\n",
    "img_rgb = cv2.cvtColor(img_cv, cv2.COLOR_BGR2RGB)\n",
    "print(pytesseract.image_to_string(img_rgb))"
   ]
  },
  {
   "cell_type": "code",
   "execution_count": null,
   "metadata": {},
   "outputs": [],
   "source": []
  }
 ],
 "metadata": {
  "kernelspec": {
   "display_name": "Python 3",
   "language": "python",
   "name": "python3"
  },
  "language_info": {
   "codemirror_mode": {
    "name": "ipython",
    "version": 3
   },
   "file_extension": ".py",
   "mimetype": "text/x-python",
   "name": "python",
   "nbconvert_exporter": "python",
   "pygments_lexer": "ipython3",
   "version": "3.6.7"
  }
 },
 "nbformat": 4,
 "nbformat_minor": 2
}
