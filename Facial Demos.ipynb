{
 "cells": [
  {
   "cell_type": "code",
   "execution_count": 22,
   "metadata": {},
   "outputs": [
    {
     "name": "stdout",
     "output_type": "stream",
     "text": [
      "[{\"faceId\": \"0d5cad2a-9173-4a5d-ae9d-092ec3689ecb\", \"faceRectangle\": {\"top\": 621, \"left\": 616, \"width\": 195, \"height\": 195}, \"faceAttributes\": {\"smile\": 0.0, \"headPose\": {\"pitch\": -11.4, \"roll\": 7.7, \"yaw\": 5.3}, \"gender\": \"male\", \"age\": 29.0, \"facialHair\": {\"moustache\": 0.4, \"beard\": 0.4, \"sideburns\": 0.1}, \"glasses\": \"NoGlasses\", \"emotion\": {\"anger\": 0.0, \"contempt\": 0.0, \"disgust\": 0.0, \"fear\": 0.0, \"happiness\": 0.0, \"neutral\": 0.999, \"sadness\": 0.001, \"surprise\": 0.0}, \"blur\": {\"blurLevel\": \"high\", \"value\": 0.89}, \"exposure\": {\"exposureLevel\": \"goodExposure\", \"value\": 0.51}, \"noise\": {\"noiseLevel\": \"medium\", \"value\": 0.59}, \"makeup\": {\"eyeMakeup\": true, \"lipMakeup\": false}, \"accessories\": [], \"occlusion\": {\"foreheadOccluded\": false, \"eyeOccluded\": false, \"mouthOccluded\": false}, \"hair\": {\"bald\": 0.04, \"invisible\": false, \"hairColor\": [{\"color\": \"black\", \"confidence\": 0.98}, {\"color\": \"brown\", \"confidence\": 0.87}, {\"color\": \"gray\", \"confidence\": 0.85}, {\"color\": \"other\", \"confidence\": 0.25}, {\"color\": \"blond\", \"confidence\": 0.07}, {\"color\": \"red\", \"confidence\": 0.02}]}}}, {\"faceId\": \"57b4b8db-7ee2-4015-89cc-48989a05b824\", \"faceRectangle\": {\"top\": 693, \"left\": 1503, \"width\": 180, \"height\": 180}, \"faceAttributes\": {\"smile\": 0.003, \"headPose\": {\"pitch\": -9.0, \"roll\": -0.5, \"yaw\": -1.5}, \"gender\": \"female\", \"age\": 58.0, \"facialHair\": {\"moustache\": 0.0, \"beard\": 0.0, \"sideburns\": 0.0}, \"glasses\": \"NoGlasses\", \"emotion\": {\"anger\": 0.0, \"contempt\": 0.001, \"disgust\": 0.0, \"fear\": 0.0, \"happiness\": 0.003, \"neutral\": 0.984, \"sadness\": 0.011, \"surprise\": 0.0}, \"blur\": {\"blurLevel\": \"high\", \"value\": 0.83}, \"exposure\": {\"exposureLevel\": \"goodExposure\", \"value\": 0.41}, \"noise\": {\"noiseLevel\": \"high\", \"value\": 0.76}, \"makeup\": {\"eyeMakeup\": false, \"lipMakeup\": false}, \"accessories\": [], \"occlusion\": {\"foreheadOccluded\": false, \"eyeOccluded\": false, \"mouthOccluded\": false}, \"hair\": {\"bald\": 0.06, \"invisible\": false, \"hairColor\": [{\"color\": \"black\", \"confidence\": 0.99}, {\"color\": \"gray\", \"confidence\": 0.89}, {\"color\": \"other\", \"confidence\": 0.64}, {\"color\": \"brown\", \"confidence\": 0.34}, {\"color\": \"blond\", \"confidence\": 0.07}, {\"color\": \"red\", \"confidence\": 0.03}]}}}]\n"
     ]
    }
   ],
   "source": [
    "import requests\n",
    "import json\n",
    "\n",
    "subscription_key = 'key'\n",
    "assert subscription_key\n",
    "\n",
    "face_api_url = 'https://yetanotherfacedemo.cognitiveservices.azure.com/face/v1.0/detect'\n",
    "\n",
    "image_url = 'https://upload.wikimedia.org/wikipedia/commons/3/37/Dagestani_man_and_woman.jpg'\n",
    "\n",
    "headers = { 'Ocp-Apim-Subscription-Key': subscription_key }\n",
    "    \n",
    "params = {\n",
    "    'returnFaceId': 'true',\n",
    "    'returnFaceLandmarks': 'false',\n",
    "    'returnFaceAttributes': 'age,gender,headPose,smile,facialHair,glasses,emotion,hair,makeup,occlusion,accessories,blur,exposure,noise',\n",
    "}\n",
    "\n",
    "response = requests.post(face_api_url, params=params, headers=headers, json={\"url\": image_url})\n",
    "print(json.dumps(response.json()))"
   ]
  },
  {
   "cell_type": "code",
   "execution_count": 8,
   "metadata": {},
   "outputs": [
    {
     "data": {
      "text/plain": [
       "{'faceId': 'ce6513ca-c1e1-4ab9-be12-8382f07a84d1',\n",
       " 'faceRectangle': {'top': 693, 'left': 1503, 'width': 180, 'height': 180},\n",
       " 'faceAttributes': {'smile': 0.003,\n",
       "  'headPose': {'pitch': -9.0, 'roll': -0.5, 'yaw': -1.5},\n",
       "  'gender': 'female',\n",
       "  'age': 58.0,\n",
       "  'facialHair': {'moustache': 0.0, 'beard': 0.0, 'sideburns': 0.0},\n",
       "  'glasses': 'NoGlasses',\n",
       "  'emotion': {'anger': 0.0,\n",
       "   'contempt': 0.001,\n",
       "   'disgust': 0.0,\n",
       "   'fear': 0.0,\n",
       "   'happiness': 0.003,\n",
       "   'neutral': 0.984,\n",
       "   'sadness': 0.011,\n",
       "   'surprise': 0.0},\n",
       "  'blur': {'blurLevel': 'high', 'value': 0.83},\n",
       "  'exposure': {'exposureLevel': 'goodExposure', 'value': 0.41},\n",
       "  'noise': {'noiseLevel': 'high', 'value': 0.76},\n",
       "  'makeup': {'eyeMakeup': False, 'lipMakeup': False},\n",
       "  'accessories': [],\n",
       "  'occlusion': {'foreheadOccluded': False,\n",
       "   'eyeOccluded': False,\n",
       "   'mouthOccluded': False},\n",
       "  'hair': {'bald': 0.05,\n",
       "   'invisible': False,\n",
       "   'hairColor': [{'color': 'black', 'confidence': 0.96},\n",
       "    {'color': 'other', 'confidence': 0.59},\n",
       "    {'color': 'brown', 'confidence': 0.53},\n",
       "    {'color': 'gray', 'confidence': 0.47},\n",
       "    {'color': 'blond', 'confidence': 0.17},\n",
       "    {'color': 'red', 'confidence': 0.11}]}}}"
      ]
     },
     "execution_count": 8,
     "metadata": {},
     "output_type": "execute_result"
    }
   ],
   "source": [
    "response.json()[1]"
   ]
  },
  {
   "cell_type": "code",
   "execution_count": 9,
   "metadata": {},
   "outputs": [
    {
     "data": {
      "text/plain": [
       "{'top': 693, 'left': 1503, 'width': 180, 'height': 180}"
      ]
     },
     "execution_count": 9,
     "metadata": {},
     "output_type": "execute_result"
    }
   ],
   "source": [
    "response.json()[1]['faceRectangle']"
   ]
  },
  {
   "cell_type": "code",
   "execution_count": 16,
   "metadata": {},
   "outputs": [
    {
     "data": {
      "text/plain": [
       "{'anger': 0.0,\n",
       " 'contempt': 0.001,\n",
       " 'disgust': 0.0,\n",
       " 'fear': 0.0,\n",
       " 'happiness': 0.003,\n",
       " 'neutral': 0.984,\n",
       " 'sadness': 0.011,\n",
       " 'surprise': 0.0}"
      ]
     },
     "execution_count": 16,
     "metadata": {},
     "output_type": "execute_result"
    }
   ],
   "source": [
    "response.json()[1]['faceAttributes']['emotion']"
   ]
  },
  {
   "cell_type": "code",
   "execution_count": 30,
   "metadata": {},
   "outputs": [
    {
     "name": "stdout",
     "output_type": "stream",
     "text": [
      "[{\"faceId\": \"78313057-e315-47de-8edd-1798f43611f5\", \"faceRectangle\": {\"top\": 182, \"left\": 244, \"width\": 161, \"height\": 161}, \"faceAttributes\": {\"smile\": 0.002, \"headPose\": {\"pitch\": -2.0, \"roll\": 3.2, \"yaw\": 15.0}, \"gender\": \"female\", \"age\": 32.0, \"facialHair\": {\"moustache\": 0.0, \"beard\": 0.0, \"sideburns\": 0.0}, \"glasses\": \"NoGlasses\", \"emotion\": {\"anger\": 0.54, \"contempt\": 0.033, \"disgust\": 0.005, \"fear\": 0.0, \"happiness\": 0.002, \"neutral\": 0.39, \"sadness\": 0.029, \"surprise\": 0.0}, \"blur\": {\"blurLevel\": \"medium\", \"value\": 0.27}, \"exposure\": {\"exposureLevel\": \"goodExposure\", \"value\": 0.67}, \"noise\": {\"noiseLevel\": \"low\", \"value\": 0.12}, \"makeup\": {\"eyeMakeup\": true, \"lipMakeup\": false}, \"accessories\": [], \"occlusion\": {\"foreheadOccluded\": false, \"eyeOccluded\": false, \"mouthOccluded\": false}, \"hair\": {\"bald\": 0.02, \"invisible\": false, \"hairColor\": [{\"color\": \"black\", \"confidence\": 0.97}, {\"color\": \"brown\", \"confidence\": 0.96}, {\"color\": \"other\", \"confidence\": 0.28}, {\"color\": \"gray\", \"confidence\": 0.2}, {\"color\": \"red\", \"confidence\": 0.16}, {\"color\": \"blond\", \"confidence\": 0.06}]}}}]\n"
     ]
    }
   ],
   "source": [
    "import requests\n",
    "import json\n",
    "import cv2\n",
    "import numpy as np\n",
    "\n",
    "selfie_img = cv2.imread('new_selfie_2.jpg')\n",
    "cv2.imshow('testing',selfie_img)\n",
    "cv2.waitKey(0)\n",
    "cv2.destroyAllWindows()\n",
    "\n",
    "subscription_key = '<key>'\n",
    "assert subscription_key\n",
    "\n",
    "#face_api_url = 'https://westcentralus.api.cognitive.microsoft.com/face/v1.0/detect'\n",
    "\n",
    "#headers = { 'Ocp-Apim-Subscription-Key': subscription_key }\n",
    "headers['Content-Type'] = 'application/octet-stream'\n",
    "    \n",
    "params = {\n",
    "    'returnFaceId': 'true',\n",
    "    'returnFaceLandmarks': 'false',\n",
    "    'returnFaceAttributes': 'age,gender,headPose,smile,facialHair,glasses,emotion,hair,makeup,occlusion,accessories,blur,exposure,noise',\n",
    "}\n",
    "\n",
    "outbound = cv2.imencode('.jpg', selfie_img)[1].tostring()\n",
    "\n",
    "response = requests.post(face_api_url, params=params, headers=headers, data=outbound)\n",
    "print(json.dumps(response.json()))"
   ]
  },
  {
   "cell_type": "code",
   "execution_count": 16,
   "metadata": {},
   "outputs": [
    {
     "data": {
      "image/png": "[encoded data removed]",
      "text/plain": [
       "<Figure size 432x288 with 1 Axes>"
      ]
     },
     "metadata": {
      "needs_background": "light"
     },
     "output_type": "display_data"
    }
   ],
   "source": [
    "import numpy as np\n",
    "import cv2 as cv\n",
    "from matplotlib import pyplot as plt\n",
    "\n",
    "color = ('b','g','r')\n",
    "for i,col in enumerate(color):\n",
    "    histr = cv.calcHist([selfie_img],[i],None,[256],[0,256])\n",
    "    plt.plot(histr,color = col)\n",
    "    plt.xlim([0,256])\n",
    "plt.show()\n",
    "\n"
   ]
  },
  {
   "cell_type": "code",
   "execution_count": 31,
   "metadata": {},
   "outputs": [
    {
     "data": {
      "text/plain": [
       "{'anger': 0.54,\n",
       " 'contempt': 0.033,\n",
       " 'disgust': 0.005,\n",
       " 'fear': 0.0,\n",
       " 'happiness': 0.002,\n",
       " 'neutral': 0.39,\n",
       " 'sadness': 0.029,\n",
       " 'surprise': 0.0}"
      ]
     },
     "execution_count": 31,
     "metadata": {},
     "output_type": "execute_result"
    }
   ],
   "source": [
    "response.json()[0]['faceAttributes']['emotion']"
   ]
  },
  {
   "cell_type": "code",
   "execution_count": 32,
   "metadata": {},
   "outputs": [
    {
     "data": {
      "text/plain": [
       "'anger'"
      ]
     },
     "execution_count": 32,
     "metadata": {},
     "output_type": "execute_result"
    }
   ],
   "source": [
    "max(response.json()[0]['faceAttributes']['emotion'], key=response.json()[0]['faceAttributes']['emotion'].get)"
   ]
  },
  {
   "cell_type": "code",
   "execution_count": 19,
   "metadata": {},
   "outputs": [
    {
     "data": {
      "text/plain": [
       "(480, 640, 3)"
      ]
     },
     "execution_count": 19,
     "metadata": {},
     "output_type": "execute_result"
    }
   ],
   "source": [
    "selfie_img.shape"
   ]
  },
  {
   "cell_type": "code",
   "execution_count": 33,
   "metadata": {},
   "outputs": [],
   "source": [
    "font = cv2.FONT_HERSHEY_TRIPLEX\n",
    "\n",
    "cv2.rectangle(selfie_img,(response.json()[0]['faceRectangle']['left'],\n",
    "                          response.json()[0]['faceRectangle']['top']),\n",
    "              (response.json()[0]['faceRectangle']['left']+response.json()[0]['faceRectangle']['width'],\n",
    "               response.json()[0]['faceRectangle']['top']+response.json()[0]['faceRectangle']['height']),(0,255,0),3)\n",
    "text_string = ' Emotion: ' + str(max(response.json()[0]['faceAttributes']['emotion'], key=response.json()[0]['faceAttributes']['emotion'].get))\n",
    "cv2.putText(selfie_img, text_string, (response.json()[0]['faceRectangle']['left'], response.json()[0]['faceRectangle']['top']), font, 1, (0,255,0)) \n",
    "cv2.imshow('selfie',cv2.resize(selfie_img, (1280, 960)))\n",
    "cv2.waitKey(0)\n",
    "cv2.destroyAllWindows()"
   ]
  },
  {
   "cell_type": "code",
   "execution_count": 21,
   "metadata": {},
   "outputs": [],
   "source": [
    "import numpy as np\n",
    "import cv2\n",
    "\n",
    "font = cv2.FONT_HERSHEY_DUPLEX\n",
    "\n",
    "cap = cv2.VideoCapture(0)\n",
    "\n",
    "# Define the codec and create VideoWriter object\n",
    "#fourcc = cv2.VideoWriter_fourcc(*'XVID')\n",
    "#out = cv2.VideoWriter('output.avi',fourcc, 20.0, (640,480))\n",
    "\n",
    "# C:\\opencv\\opencv-master\\data\\haarcascades\\haarcascade_frontalcatface.xml\n",
    "\n",
    "#face_cascade = cv2.CascadeClassifier('C:\\opencv\\opencv-master\\data\\haarcascades\\haarcascade_frontalcatface.xml')\n",
    "\n",
    "face_cascade = cv2.CascadeClassifier(cv2.data.haarcascades + \"haarcascade_frontalface_default.xml\")\n",
    "\n",
    "while(cap.isOpened()):\n",
    "    ret, frame = cap.read()\n",
    "    if ret==True:\n",
    "        #gray = cv2.cvtColor(frame, cv2.COLOR_BGR2GRAY)\n",
    "        #faces = face_cascade.detectMultiScale(gray, 1.3, 5)\n",
    "        #for (x,y,w,h) in faces:\n",
    "            #cv2.rectangle(frame,(x,y),(x+w,y+h),(255,0,0),2)\n",
    "            #roi_gray = gray[y:y+h, x:x+w]\n",
    "            #roi_color = img[y:y+h, x:x+w]\n",
    "        #frame = cv2.flip(frame,0)\n",
    "        # write the flipped frame\n",
    "        #out.write(frame)\n",
    "        outbound = cv2.imencode('.jpg', frame)[1].tostring()\n",
    "        response = requests.post(face_api_url, params=params, headers=headers, data=outbound)\n",
    "        text_string = 'Emotion: ' + str(max(response.json()[0]['faceAttributes']['emotion'], key=response.json()[0]['faceAttributes']['emotion'].get))\n",
    "        cv2.putText(frame, text_string, (response.json()[0]['faceRectangle']['left'], response.json()[0]['faceRectangle']['top']), font, 1, (0,255,0)) \n",
    "        cv2.imshow('frame',frame)\n",
    "        if cv2.waitKey(1) & 0xFF == ord('q'):\n",
    "            break\n",
    "    else:\n",
    "        break\n",
    "\n",
    "# Release everything if job is finished\n",
    "cap.release()\n",
    "#out.release()\n",
    "cv2.destroyAllWindows()"
   ]
  },
  {
   "cell_type": "code",
   "execution_count": null,
   "metadata": {},
   "outputs": [],
   "source": []
  }
 ],
 "metadata": {
  "kernelspec": {
   "display_name": "Python 3",
   "language": "python",
   "name": "python3"
  },
  "language_info": {
   "codemirror_mode": {
    "name": "ipython",
    "version": 3
   },
   "file_extension": ".py",
   "mimetype": "text/x-python",
   "name": "python",
   "nbconvert_exporter": "python",
   "pygments_lexer": "ipython3",
   "version": "3.6.7"
  }
 },
 "nbformat": 4,
 "nbformat_minor": 2
}
